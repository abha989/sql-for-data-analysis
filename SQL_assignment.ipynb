{
  "nbformat": 4,
  "nbformat_minor": 0,
  "metadata": {
    "colab": {
      "provenance": [],
      "authorship_tag": "ABX9TyPjj1+xsQgiIgQp95nFbIQD",
      "include_colab_link": true
    },
    "kernelspec": {
      "name": "python3",
      "display_name": "Python 3"
    },
    "language_info": {
      "name": "python"
    }
  },
  "cells": [
    {
      "cell_type": "markdown",
      "metadata": {
        "id": "view-in-github",
        "colab_type": "text"
      },
      "source": [
        "<a href=\"https://colab.research.google.com/github/abha989/sql-for-data-analysis/blob/main/SQL_assignment.ipynb\" target=\"_parent\"><img src=\"https://colab.research.google.com/assets/colab-badge.svg\" alt=\"Open In Colab\"/></a>"
      ]
    },
    {
      "cell_type": "code",
      "execution_count": null,
      "metadata": {
        "id": "_fM0vwe_iyuN"
      },
      "outputs": [],
      "source": [
        "#SQL BASICS ASSIGNMENT QUESTION"
      ]
    },
    {
      "cell_type": "code",
      "source": [
        "'''1. Create a table called employees with the following structure?\n",
        ": emp_id (integer, should not be NULL and should be a primary key)Q\n",
        ": emp_name (text, should not be NULL)Q\n",
        ": age (integer, should have a check constraint to ensure the age is at least 18)Q\n",
        ": email (text, should be unique for each employee)Q\n",
        ": salary (decimal, with a default value of 30,000).\n",
        "\n",
        "Write the SQL query to create the above table with all constraints.'''"
      ],
      "metadata": {
        "id": "ltnXf0cQZj1l"
      },
      "execution_count": null,
      "outputs": []
    },
    {
      "cell_type": "code",
      "source": [
        "'''CREATE TABLE employee (\n",
        "    emp_id INTEGER,\n",
        "    emp_name VARCHAR(100) NOT NULL,\n",
        "    age INTEGER CHECK (age >= 18),\n",
        "    email VARCHAR(255) UNIQUE,\n",
        "    salary DECIMAL DEFAULT 30000\n",
        ");'''"
      ],
      "metadata": {
        "id": "9q0hm0bhZ33Z"
      },
      "execution_count": null,
      "outputs": []
    },
    {
      "cell_type": "code",
      "source": [
        "'''2. Explain the purpose of constraints and how they help maintain data integrity in a database. Provide\n",
        "examples of common types of constraints'''"
      ],
      "metadata": {
        "id": "TISYjyQZcrtZ"
      },
      "execution_count": null,
      "outputs": []
    },
    {
      "cell_type": "code",
      "source": [
        "'''Constraints are rules applied to database tables to ensure the accuracy, consistency, and integrity of the data. They restrict the types of data that can be inserted, updated, or deleted in a table, preventing invalid or inconsistent data from being stored.\n",
        "The main purposes of constraints are:\n",
        "Data Integrity: Ensure the data entered into a database is accurate and reliable.\n",
        "Prevent Errors: Avoid mistakes caused by human input or faulty applications.\n",
        "Maintain Relationships: Enforce relationships between tables using keys and referential integrity.\n",
        "Optimize Performance: Improve query performance by eliminating unnecessary data checks.\n",
        "\n",
        "Common Types of Constraints\n",
        "Here are some of the most commonly used database constraints:\n",
        "1-Primary Key Constraint\n",
        "2-Foreign Key Constraint\n",
        "3-Unique Constraint\n",
        "4-Check Constraint\n",
        "5-Not Null Constraint\n",
        "6-Default Constraint '''"
      ],
      "metadata": {
        "id": "FMugVgE4dIsp"
      },
      "execution_count": null,
      "outputs": []
    },
    {
      "cell_type": "code",
      "source": [
        "'''3.Why would you apply the NOT NULL constraint to a column? Can a primary key contain NULL values? Justify\n",
        "your answer.'''"
      ],
      "metadata": {
        "id": "95_GVKttdkO0"
      },
      "execution_count": null,
      "outputs": []
    },
    {
      "cell_type": "code",
      "source": [
        "''' The NOT NULL constraint is applied to a column to ensure that it cannot store NULL values.\n",
        "This is particularly useful when a column's data is essential for the integrity or functionality of the\n",
        " application.\n",
        " No, a Primary Key cannot contain NULL values.\n",
        "Justification:\n",
        "1- Uniqueness and Identification\n",
        "2-Database Integrity\n",
        "3-Indexing"
      ],
      "metadata": {
        "id": "u3Rr5ngkdrMo"
      },
      "execution_count": null,
      "outputs": []
    },
    {
      "cell_type": "code",
      "source": [
        "'''4. Explain the steps and SQL commands used to add or remove constraints on an existing table. Provide an\n",
        "example for both adding and removing a constraint.'''"
      ],
      "metadata": {
        "id": "4f2Z8zmNejQo"
      },
      "execution_count": null,
      "outputs": []
    },
    {
      "cell_type": "code",
      "source": [
        "''' you can use the ALTER TABLE statement to add or remove constraints from an existing table.\n",
        "The process may vary depending on the type of constraint.\n",
        "\n",
        "Adding constraint\n",
        "\n",
        "ALTER TABLE employee\n",
        "MODIFY COLUMN Age int NOT NULL;\n",
        "\n",
        "Removing constraint\n",
        "\n",
        "ALTER TABLE Employees\n",
        "DROP CONSTRAINT CHK_Age;\n",
        "\n",
        "\n"
      ],
      "metadata": {
        "id": "XlF81_64elih"
      },
      "execution_count": null,
      "outputs": []
    },
    {
      "cell_type": "code",
      "source": [
        "'''5. Explain the consequences of attempting to insert, update, or delete data in a way that violates constraints.\n",
        "Provide an example of an error message that might occur when violating a constraint.'''"
      ],
      "metadata": {
        "id": "KCkzO2geii_H"
      },
      "execution_count": null,
      "outputs": []
    },
    {
      "cell_type": "code",
      "source": [
        "'''When attempting to insert, update, or delete data that violates constraints in MySQL,\n",
        "the database management system (DBMS) will prevent the action and return an error. Constraints are\n",
        "enforced to maintain data integrity and ensure that the database remains consistent.\n",
        "Here are the typical consequences of violating different types of constraints:\n",
        "\n",
        "insert into employee Values (101, \"Abha\",\"ayadav989@gmail.com\",50000);\n",
        "\n",
        "Consequence: You cannot insert duplicate values or NULL in a primary key column.\n",
        "ERROR 1062 (23000): Duplicate entry '101' for key 'PRIMARY'''\n"
      ],
      "metadata": {
        "id": "4n-LEN_OjQBV"
      },
      "execution_count": null,
      "outputs": []
    },
    {
      "cell_type": "code",
      "source": [
        "'''6- You created a products table without constraints as follows:\n",
        "\n",
        "CREATE TABLE products (\n",
        "\n",
        "    product_id INT,\n",
        "\n",
        "    product_name VARCHAR(50),\n",
        "\n",
        "    price DECIMAL(10, 2));\n",
        "Now, you realise that?\n",
        ": The product_id should be a primary keyQ\n",
        ": The price should have a default value of 50.00'''"
      ],
      "metadata": {
        "id": "NikgpBD8lRCM"
      },
      "execution_count": null,
      "outputs": []
    },
    {
      "cell_type": "code",
      "source": [
        "''' Alter Table Products\n",
        "add Primary Key(product_id );'''\n",
        "\n",
        "'''ALTER TABLE Products\n",
        "MODIFY COLUMN price INT DEFAULT 50.0;'''"
      ],
      "metadata": {
        "id": "6gFhBaJvlqxa"
      },
      "execution_count": null,
      "outputs": []
    },
    {
      "cell_type": "code",
      "source": [
        "'''7. You have two tables:\n",
        "Write a query to fetch the student_name and class_name for each student using an INNER JOIN."
      ],
      "metadata": {
        "id": "vYLWZA1ECnmH"
      },
      "execution_count": null,
      "outputs": []
    },
    {
      "cell_type": "code",
      "source": [
        "'''SELECT Students.student_name, Classes.class_name\n",
        "FROM Students\n",
        "INNER JOIN Classes ON Students.class_id = Classes.class_id;'''\n"
      ],
      "metadata": {
        "id": "vPsq5IBWFwv-"
      },
      "execution_count": null,
      "outputs": []
    },
    {
      "cell_type": "code",
      "source": [
        "'''8. Write a query that shows all order_id, customer_name, and product_name, ensuring that all products are\n",
        "listed even if they are not associated with an order\n",
        "Hint: (use INNER JOIN and LEFT JOIN)5"
      ],
      "metadata": {
        "id": "kwwGAqRAo5HZ"
      },
      "execution_count": null,
      "outputs": []
    },
    {
      "cell_type": "code",
      "source": [
        "'''SELECT\n",
        "    o.order_id,\n",
        "    c.customer_name,\n",
        "    p.product_name\n",
        "FROM products p\n",
        "LEFT JOIN order_details od ON p.product_id = od.product_id\n",
        "LEFT JOIN orders o ON od.order_id = o.order_id\n",
        "LEFT JOIN customers c ON o.customer_id = c.customer_id;\n",
        "'''"
      ],
      "metadata": {
        "id": "4GoX-wM2o_SO"
      },
      "execution_count": null,
      "outputs": []
    },
    {
      "cell_type": "code",
      "source": [
        "#9-Write a query to find the total sales amount for each product using an INNER JOIN and the SUM() function."
      ],
      "metadata": {
        "id": "oelLk8s3pKZn"
      },
      "execution_count": null,
      "outputs": []
    },
    {
      "cell_type": "code",
      "source": [
        "''' SELECT\n",
        "    p.product_name,\n",
        "    SUM(od.quantity * od.unit_price) AS total_sales\n",
        "FROM order_details od\n",
        "INNER JOIN products p ON od.product_id = p.product_id\n",
        "GROUP BY p.product_name\n",
        "ORDER BY total_sales DESC;\n",
        "'''"
      ],
      "metadata": {
        "id": "QfwedGcIpNCG"
      },
      "execution_count": null,
      "outputs": []
    },
    {
      "cell_type": "code",
      "source": [
        "#10- Write a query to display the order_id, customer_name, and the quantity of products ordered by each customer using an INNER JOIN between all three tables."
      ],
      "metadata": {
        "id": "E6xA3J4BpRXl"
      },
      "execution_count": null,
      "outputs": []
    },
    {
      "cell_type": "code",
      "source": [
        "''' SELECT\n",
        "    o.order_id,\n",
        "    c.customer_name,\n",
        "    SUM(od.quantity) AS total_quantity\n",
        "FROM orders o\n",
        "INNER JOIN customers c ON o.customer_id = c.customer_id\n",
        "INNER JOIN order_details od ON o.order_id = od.order_id\n",
        "GROUP BY o.order_id, c.customer_name\n",
        "ORDER BY c.customer_name, o.order_id;\n",
        "'''"
      ],
      "metadata": {
        "id": "9eCTJofdpXo6"
      },
      "execution_count": null,
      "outputs": []
    },
    {
      "cell_type": "code",
      "source": [
        "# SQL COMMANDS"
      ],
      "metadata": {
        "id": "e9RkI5_G3rvz"
      },
      "execution_count": null,
      "outputs": []
    },
    {
      "cell_type": "code",
      "source": [
        "#1-Identify the primary keys and foreign keys in maven movies db. Discuss the differences"
      ],
      "metadata": {
        "id": "lRgFAG4j3uKG"
      },
      "execution_count": null,
      "outputs": []
    },
    {
      "cell_type": "code",
      "source": [
        "''' SELECT  actor,  actor_id\n",
        "FROM INFORMATION_SCHEMA.KEY_COLUMN_USAGE\n",
        "WHERE TABLE_SCHEMA = 'mavenmovies'\n",
        "AND CONSTRAINT_NAME = 'PRIMARY';\n",
        "\n",
        "          Primary Key                                                       \tForeign Key\n",
        "Uniquely identifies each row in a table.\t                  Establishes a relationship between tables.\n",
        "Cannot contain NULL values.\t                                Can contain NULL if the relationship allows it.\n",
        "Only one primary key is allowed per table.\t                Multiple foreign keys can exist in a table.\n",
        "Automatically enforces uniqueness.\t                        Does not enforce uniqueness in the child table.\n",
        "Typically used for table identification.\t                  Used for maintaining referential integrity.\n",
        "\n"
      ],
      "metadata": {
        "id": "UecUoejG3zP8"
      },
      "execution_count": null,
      "outputs": []
    },
    {
      "cell_type": "code",
      "source": [
        "#2-List all details of actors'''"
      ],
      "metadata": {
        "id": "TaNNQOvqG8cp"
      },
      "execution_count": null,
      "outputs": []
    },
    {
      "cell_type": "code",
      "source": [
        "'''Select * from actor;'''"
      ],
      "metadata": {
        "id": "PMnMerAPkN3k"
      },
      "execution_count": null,
      "outputs": []
    },
    {
      "cell_type": "code",
      "source": [
        "#3-List all customer information from DB.'''"
      ],
      "metadata": {
        "id": "vBO-uZO0kQjK"
      },
      "execution_count": null,
      "outputs": []
    },
    {
      "cell_type": "code",
      "source": [
        "'''Select * from actor;'''"
      ],
      "metadata": {
        "id": "ybYGLVLVkU5n"
      },
      "execution_count": null,
      "outputs": []
    },
    {
      "cell_type": "code",
      "source": [
        "#4- List different countries.'''"
      ],
      "metadata": {
        "id": "R9EKsmugkmUO"
      },
      "execution_count": null,
      "outputs": []
    },
    {
      "cell_type": "code",
      "source": [
        "''' Select Country From Country;'''"
      ],
      "metadata": {
        "id": "rmEbHcm4kwvQ"
      },
      "execution_count": null,
      "outputs": []
    },
    {
      "cell_type": "code",
      "source": [
        "#5- Display all active customers.'''"
      ],
      "metadata": {
        "id": "B3hjjRenlAEM"
      },
      "execution_count": null,
      "outputs": []
    },
    {
      "cell_type": "code",
      "source": [
        "''' select first_name, last_name from customer where active = 1;'''"
      ],
      "metadata": {
        "id": "j3C88XyJlGr1"
      },
      "execution_count": null,
      "outputs": []
    },
    {
      "cell_type": "code",
      "source": [
        "#6- -List of all rental IDs for customer with ID 1.'''"
      ],
      "metadata": {
        "id": "M8YUSXKCo5iv"
      },
      "execution_count": null,
      "outputs": []
    },
    {
      "cell_type": "code",
      "source": [
        "''' select rental_id from rental where customer_id =1;'''"
      ],
      "metadata": {
        "id": "ZNglHBXmpLEu"
      },
      "execution_count": null,
      "outputs": []
    },
    {
      "cell_type": "code",
      "source": [
        "#7- Display all the films whose rental duration is greater than 5 .'''"
      ],
      "metadata": {
        "id": "t5Fy1wtzqb_i"
      },
      "execution_count": null,
      "outputs": []
    },
    {
      "cell_type": "code",
      "source": [
        "''' select film_id, title from film where rental_duration >5;'''"
      ],
      "metadata": {
        "id": "RJb7bzHQqlH6"
      },
      "execution_count": null,
      "outputs": []
    },
    {
      "cell_type": "code",
      "source": [
        "#8- List the total number of films whose replacement cost is greater than $15 and less than $20.'''"
      ],
      "metadata": {
        "id": "wlfZ8VI1rZM8"
      },
      "execution_count": null,
      "outputs": []
    },
    {
      "cell_type": "code",
      "source": [
        "'''select film_id, title from film where replacement_cost > 15 and replacement_cost < 20;'''"
      ],
      "metadata": {
        "id": "bWwVIZgErdn6"
      },
      "execution_count": null,
      "outputs": []
    },
    {
      "cell_type": "code",
      "source": [
        "#9 - Display the count of unique first names of actors.'''"
      ],
      "metadata": {
        "id": "ZIzj05G6sNG0"
      },
      "execution_count": null,
      "outputs": []
    },
    {
      "cell_type": "code",
      "source": [
        "''' Select count(distinct first_name) from actor;'''"
      ],
      "metadata": {
        "id": "ussnAfM3sQ9X"
      },
      "execution_count": null,
      "outputs": []
    },
    {
      "cell_type": "code",
      "source": [
        "#10 - Display the first 10 records from the customer table'''"
      ],
      "metadata": {
        "id": "u-UIhXHgtRUI"
      },
      "execution_count": null,
      "outputs": []
    },
    {
      "cell_type": "code",
      "source": [
        "'''select * from customer limit 10;'''"
      ],
      "metadata": {
        "id": "5-LofU5Wta7I"
      },
      "execution_count": null,
      "outputs": []
    },
    {
      "cell_type": "code",
      "source": [
        "#11- Display the first 3 records from the customer table whose first name starts with ‘b’.'''"
      ],
      "metadata": {
        "id": "T9p1Tw70udFK"
      },
      "execution_count": null,
      "outputs": []
    },
    {
      "cell_type": "code",
      "source": [
        "'''select * from customer where first_name like 'b%' limit 3;'''"
      ],
      "metadata": {
        "id": "vcQ04wIjvTYC"
      },
      "execution_count": null,
      "outputs": []
    },
    {
      "cell_type": "code",
      "source": [
        "#12- Display the names of the first 5 movies which are rated as ‘G’.'''"
      ],
      "metadata": {
        "id": "xUaf1prwvU9w"
      },
      "execution_count": null,
      "outputs": []
    },
    {
      "cell_type": "code",
      "source": [
        "''' select  film_id, title from film  where rating = 'G'  limit 5;'''"
      ],
      "metadata": {
        "id": "71DLGEu7vaLb"
      },
      "execution_count": null,
      "outputs": []
    },
    {
      "cell_type": "code",
      "source": [
        "#13- Find all customers whose first name starts with \"a\".'''"
      ],
      "metadata": {
        "id": "4xiXlf54lK7x"
      },
      "execution_count": null,
      "outputs": []
    },
    {
      "cell_type": "code",
      "source": [
        "''' select first_name, last_name from customer where first_name like 'a%';'''"
      ],
      "metadata": {
        "id": "QFzRT71smehl"
      },
      "execution_count": null,
      "outputs": []
    },
    {
      "cell_type": "code",
      "source": [
        "#14- Find all customers whose first name ends with \"a\"."
      ],
      "metadata": {
        "id": "AUMn-lS6mkRz"
      },
      "execution_count": null,
      "outputs": []
    },
    {
      "cell_type": "code",
      "source": [
        "''' select first_name, last_name from customer where first_name like '%a';'''"
      ],
      "metadata": {
        "id": "EZIeyKCinBCo"
      },
      "execution_count": null,
      "outputs": []
    },
    {
      "cell_type": "code",
      "source": [
        "#15- Display the list of first 4 cities which start and end with ‘a’ ."
      ],
      "metadata": {
        "id": "6M7bNZywqOhL"
      },
      "execution_count": null,
      "outputs": []
    },
    {
      "cell_type": "code",
      "source": [
        "''' select first_name, last_name from customer where first_name like '%a' and first_name like 'a%';'''"
      ],
      "metadata": {
        "id": "YllhR0cAsu9z"
      },
      "execution_count": null,
      "outputs": []
    },
    {
      "cell_type": "code",
      "source": [
        "#16-  Find all customers whose first name have \"NI\" in any position.'''"
      ],
      "metadata": {
        "id": "tQE_FbdEuIWu"
      },
      "execution_count": null,
      "outputs": []
    },
    {
      "cell_type": "code",
      "source": [
        "''' select first_name from customer where first_name like '%ni%';'''"
      ],
      "metadata": {
        "id": "fasFJJJ6uNgX"
      },
      "execution_count": null,
      "outputs": []
    },
    {
      "cell_type": "code",
      "source": [
        "#17- Find all customers whose first name have \"r\" in the second position .'''"
      ],
      "metadata": {
        "id": "4SCFQ4d2usCJ"
      },
      "execution_count": null,
      "outputs": []
    },
    {
      "cell_type": "code",
      "source": [
        "''' select first_name from customer where first_name like '_r%';'''"
      ],
      "metadata": {
        "id": "AWok3yzXu0AF"
      },
      "execution_count": null,
      "outputs": []
    },
    {
      "cell_type": "code",
      "source": [
        "#18- Find all customers whose first name starts with \"a\" and are at least 5 characters in length.'''"
      ],
      "metadata": {
        "id": "uhwZU0SQvsg1"
      },
      "execution_count": null,
      "outputs": []
    },
    {
      "cell_type": "code",
      "source": [
        "''' select first_name from customer where first_name like '%a_____';'''"
      ],
      "metadata": {
        "id": "6jXZY50ivyPD"
      },
      "execution_count": null,
      "outputs": []
    },
    {
      "cell_type": "code",
      "source": [
        "#19- Find all customers whose first name starts with \"a\" and ends with \"o\".'''"
      ],
      "metadata": {
        "id": "vziV-7egwLvq"
      },
      "execution_count": null,
      "outputs": []
    },
    {
      "cell_type": "code",
      "source": [
        "'''select first_name from customer where first_name like 'a%' and first_name like '%o';'''"
      ],
      "metadata": {
        "id": "TtPz14JIwxI4"
      },
      "execution_count": null,
      "outputs": []
    },
    {
      "cell_type": "code",
      "source": [
        "#20- Get the films with pg and pg-13 rating using IN operator.'''"
      ],
      "metadata": {
        "id": "SDj9q1mGwzWC"
      },
      "execution_count": null,
      "outputs": []
    },
    {
      "cell_type": "code",
      "source": [
        "''' select * from film where rating in('pg','pg-13');'''"
      ],
      "metadata": {
        "id": "eky52pXxw5nR"
      },
      "execution_count": null,
      "outputs": []
    },
    {
      "cell_type": "code",
      "source": [
        "#21- Get the films with length between 50 to 100 using between operator'''"
      ],
      "metadata": {
        "id": "3VrqXEnyxqAN"
      },
      "execution_count": null,
      "outputs": []
    },
    {
      "cell_type": "code",
      "source": [
        "'''select * from film where length between 5 and 100;'''"
      ],
      "metadata": {
        "id": "KCTg19nCx3DY"
      },
      "execution_count": null,
      "outputs": []
    },
    {
      "cell_type": "code",
      "source": [
        "#22- Get the top 50 actors using limit operator.'''"
      ],
      "metadata": {
        "id": "qHx-qzkRya9_"
      },
      "execution_count": null,
      "outputs": []
    },
    {
      "cell_type": "code",
      "source": [
        "''' select * from actor limit 50;'''"
      ],
      "metadata": {
        "id": "FlU3PzHeyfHT"
      },
      "execution_count": null,
      "outputs": []
    },
    {
      "cell_type": "code",
      "source": [
        "#23-- Get the distinct film ids from inventory table.'''"
      ],
      "metadata": {
        "id": "Snql_XnszHT1"
      },
      "execution_count": null,
      "outputs": []
    },
    {
      "cell_type": "code",
      "source": [
        "'''select distinct film_id from inventory;'''"
      ],
      "metadata": {
        "id": "lzt-_Vj_zMKH"
      },
      "execution_count": null,
      "outputs": []
    },
    {
      "cell_type": "code",
      "source": [
        "## Functions\n",
        "#. Basic Aggregate Functions:"
      ],
      "metadata": {
        "id": "dZ7tpsi94Rjd"
      },
      "execution_count": null,
      "outputs": []
    },
    {
      "cell_type": "code",
      "source": [
        "#1- Retrieve the total number of rentals made in the Sakila database.Hint: Use the COUNT() function."
      ],
      "metadata": {
        "id": "xIdRxd4w5zPl"
      },
      "execution_count": null,
      "outputs": []
    },
    {
      "cell_type": "code",
      "source": [
        "''' select Count(rental_id) from rental;'''"
      ],
      "metadata": {
        "id": "EZCkNUAX6Bvr"
      },
      "execution_count": null,
      "outputs": []
    },
    {
      "cell_type": "code",
      "source": [
        "#2- Find the average rental duration (in days) of movies rented from the Sakila database.Hint: Utilize the AVG() function."
      ],
      "metadata": {
        "id": "0DnyOAn87hJv"
      },
      "execution_count": null,
      "outputs": []
    },
    {
      "cell_type": "code",
      "source": [
        "''' select avg(rental_duration) from film; '''"
      ],
      "metadata": {
        "id": "lzV8pjMg8LRP"
      },
      "execution_count": null,
      "outputs": []
    },
    {
      "cell_type": "code",
      "source": [
        "#3- Display the first name and last name of customers in uppercase.Hint: Use the UPPER () function."
      ],
      "metadata": {
        "id": "a8MJfpJM8p98"
      },
      "execution_count": null,
      "outputs": []
    },
    {
      "cell_type": "code",
      "source": [
        "''' select upper(concat(first_name,last_name)) as name from customer;'''"
      ],
      "metadata": {
        "id": "3fOelceW8xxo"
      },
      "execution_count": null,
      "outputs": []
    },
    {
      "cell_type": "code",
      "source": [
        "#4- Extract the month from the rental date and display it alongside the rental ID.Hint: Employ the MONTH() function."
      ],
      "metadata": {
        "id": "FgXQYDRbQKE0"
      },
      "execution_count": null,
      "outputs": []
    },
    {
      "cell_type": "code",
      "source": [
        "''' select rental_id, extract(month from rental_date) from rental;'''"
      ],
      "metadata": {
        "id": "ySZpfHjPQZhL"
      },
      "execution_count": null,
      "outputs": []
    },
    {
      "cell_type": "code",
      "source": [
        "#5- Retrieve the count of rentals for each customer (display customer ID and the count of rentals).Hint: Use COUNT () in conjunction with GROUP BY."
      ],
      "metadata": {
        "id": "dY3T2nFKryGH"
      },
      "execution_count": null,
      "outputs": []
    },
    {
      "cell_type": "code",
      "source": [
        "''' select count(rental_id), customer_id from rental group by customer_id;'''"
      ],
      "metadata": {
        "id": "Zvakcyysr5Gf"
      },
      "execution_count": null,
      "outputs": []
    },
    {
      "cell_type": "code",
      "source": [
        "#6- Find the total revenue generated by each store.Hint: Combine SUM() and GROUP BY."
      ],
      "metadata": {
        "id": "hmn9j4Apz7hR"
      },
      "execution_count": null,
      "outputs": []
    },
    {
      "cell_type": "code",
      "source": [
        "''' SELECT s.store_id, SUM(p.amount) AS total_revenue\n",
        "FROM payment p\n",
        "JOIN staff s ON p.staff_id = s.staff_id\n",
        "GROUP BY s.store_id;'''"
      ],
      "metadata": {
        "id": "sZDQL9Nz0ARU"
      },
      "execution_count": null,
      "outputs": []
    },
    {
      "cell_type": "code",
      "source": [
        "#7- Determine the total number of rentals for each category of movies.Hint: JOIN film_category, film, and rental tables, then use cOUNT () and GROUP BY."
      ],
      "metadata": {
        "id": "OciRn2br10Aa"
      },
      "execution_count": null,
      "outputs": []
    },
    {
      "cell_type": "code",
      "source": [
        "'''SELECT c.name AS category_name, COUNT(r.rental_id) AS total_rentals\n",
        "FROM rental r\n",
        "JOIN inventory i ON r.inventory_id = i.inventory_id\n",
        "JOIN film f ON i.film_id = f.film_id\n",
        "JOIN film_category fc ON f.film_id = fc.film_id\n",
        "JOIN category c ON fc.category_id = c.category_id\n",
        "GROUP BY c.name\n",
        "ORDER BY total_rentals DESC;\n",
        "'''"
      ],
      "metadata": {
        "id": "fzHeBXcV1-fl"
      },
      "execution_count": null,
      "outputs": []
    },
    {
      "cell_type": "code",
      "source": [
        "#8- Find the average rental rate of movies in each language.Hint: JOIN film and language tables, then use AVG () and GROUP BY."
      ],
      "metadata": {
        "id": "YJZLFLBT3ss2"
      },
      "execution_count": null,
      "outputs": []
    },
    {
      "cell_type": "code",
      "source": [
        "'''SELECT l.name AS language_name, AVG(f.rental_rate) AS average_rental_rate\n",
        "FROM film f\n",
        "JOIN language l ON f.language_id = l.language_id\n",
        "GROUP BY l.name\n",
        "ORDER BY average_rental_rate DESC;\n",
        "'''"
      ],
      "metadata": {
        "id": "rERdTp8O4IGW"
      },
      "execution_count": null,
      "outputs": []
    },
    {
      "cell_type": "code",
      "source": [
        "# Joins"
      ],
      "metadata": {
        "id": "r_8aKc10gO8z"
      },
      "execution_count": null,
      "outputs": []
    },
    {
      "cell_type": "code",
      "source": [
        "#9- Display the title of the movie, customer s first name, and last name who rented it.Hint: Use JOIN between the film, inventory, rental, and customer tables."
      ],
      "metadata": {
        "id": "4ycG5ExBkY6N"
      },
      "execution_count": null,
      "outputs": []
    },
    {
      "cell_type": "code",
      "source": [
        "''' SELECT\n",
        "    f.title AS movie_title,\n",
        "    c.first_name,\n",
        "    c.last_name\n",
        "FROM rental r\n",
        "JOIN inventory i ON r.inventory_id = i.inventory_id\n",
        "JOIN film f ON i.film_id = f.film_id\n",
        "JOIN customer c ON r.customer_id = c.customer_id;\n",
        "'''"
      ],
      "metadata": {
        "id": "b_JMQ8v_kq8I"
      },
      "execution_count": null,
      "outputs": []
    },
    {
      "cell_type": "code",
      "source": [
        "#10- Retrieve the names of all actors who have appeared in the film \"Gone with the Wind.\"Hint: Use JOIN between the film actor, film, and actor tables."
      ],
      "metadata": {
        "id": "q9eRnPYjISgt"
      },
      "execution_count": null,
      "outputs": []
    },
    {
      "cell_type": "code",
      "source": [
        "'''SELECT\n",
        "    a.first_name,\n",
        "    a.last_name\n",
        "FROM film f\n",
        "JOIN film_actor fa ON f.film_id = fa.film_id\n",
        "JOIN actor a ON fa.actor_id = a.actor_id\n",
        "WHERE f.title = 'Gone with the Wind';\n",
        "'''"
      ],
      "metadata": {
        "id": "LDrTKd4MIZpP"
      },
      "execution_count": null,
      "outputs": []
    },
    {
      "cell_type": "code",
      "source": [
        "#11- Retrieve the customer names along with the total amount they've spent on rentals.Hint: JOIN customer, payment, and rental tables, then use SUM() and GROUP BY."
      ],
      "metadata": {
        "id": "V71TYTsAMVXY"
      },
      "execution_count": null,
      "outputs": []
    },
    {
      "cell_type": "code",
      "source": [
        "''' SELECT\n",
        "    c.first_name,\n",
        "    c.last_name,\n",
        "    SUM(p.amount) AS total_amount_spent\n",
        "FROM customer c\n",
        "JOIN payment p ON c.customer_id = p.customer_id\n",
        "GROUP BY c.customer_id, c.first_name, c.last_name\n",
        "ORDER BY total_amount_spent DESC;\n",
        "'''"
      ],
      "metadata": {
        "id": "Lt1cwo6-MauL"
      },
      "execution_count": null,
      "outputs": []
    },
    {
      "cell_type": "code",
      "source": [
        "#12- List the titles of movies rented by each customer in a particular city (e.g., 'London').Hint: JOIN customer, address, city, rental, inventory, and film tables, then use GROUP BY."
      ],
      "metadata": {
        "id": "coyd6oC2Ml4J"
      },
      "execution_count": null,
      "outputs": []
    },
    {
      "cell_type": "code",
      "source": [
        "'''SELECT\n",
        "    c.first_name,\n",
        "    c.last_name,\n",
        "    ci.city,\n",
        "    f.title AS movie_title\n",
        "FROM customer c\n",
        "JOIN address a ON c.address_id = a.address_id\n",
        "JOIN city ci ON a.city_id = ci.city_id\n",
        "JOIN rental r ON c.customer_id = r.customer_id\n",
        "JOIN inventory i ON r.inventory_id = i.inventory_id\n",
        "JOIN film f ON i.film_id = f.film_id\n",
        "WHERE ci.city = 'London'\n",
        "ORDER BY c.last_name, c.first_name, f.title;\n",
        "'''"
      ],
      "metadata": {
        "id": "wp8t4EjwMo6t"
      },
      "execution_count": null,
      "outputs": []
    },
    {
      "cell_type": "code",
      "source": [
        "#13- Display the top 5 rented movies along with the number of times they've been rented.JOIN film, inventory, and rental tables, then use COUNT () and GROUP BY, and limit the results."
      ],
      "metadata": {
        "id": "sIIgN9oIMx_N"
      },
      "execution_count": null,
      "outputs": []
    },
    {
      "cell_type": "code",
      "source": [
        "''' SELECT\n",
        "    f.title AS movie_title,\n",
        "    COUNT(r.rental_id) AS rental_count\n",
        "FROM rental r\n",
        "JOIN inventory i ON r.inventory_id = i.inventory_id\n",
        "JOIN film f ON i.film_id = f.film_id\n",
        "GROUP BY f.film_id, f.title\n",
        "ORDER BY rental_count DESC\n",
        "LIMIT 5;\n",
        "'''"
      ],
      "metadata": {
        "id": "KsDLSzpsM26d"
      },
      "execution_count": null,
      "outputs": []
    },
    {
      "cell_type": "code",
      "source": [
        "#14- Determine the customers who have rented movies from both stores (store ID 1 and store ID 2).Hint: Use JOINS with rental, inventory, and customer tables and consider COUNT() and GROUP BY."
      ],
      "metadata": {
        "id": "42UB_Y9IM-wL"
      },
      "execution_count": null,
      "outputs": []
    },
    {
      "cell_type": "code",
      "source": [
        "'''SELECT\n",
        "    c.first_name,\n",
        "    c.last_name\n",
        "FROM rental r\n",
        "JOIN inventory i ON r.inventory_id = i.inventory_id\n",
        "JOIN customer c ON r.customer_id = c.customer_id\n",
        "WHERE i.store_id IN (1, 2)\n",
        "GROUP BY c.customer_id, c.first_name, c.last_name\n",
        "HAVING COUNT(DISTINCT i.store_id) = 2;\n",
        "'''"
      ],
      "metadata": {
        "id": "hOxWokl5NCJI"
      },
      "execution_count": null,
      "outputs": []
    },
    {
      "cell_type": "code",
      "source": [
        "#Windows Function:"
      ],
      "metadata": {
        "id": "nBgEJQo9TAwf"
      },
      "execution_count": null,
      "outputs": []
    },
    {
      "cell_type": "code",
      "source": [
        "#1. Rank the customers based on the total amount they've spent on rentals."
      ],
      "metadata": {
        "id": "TIns_Ds9TFNq"
      },
      "execution_count": null,
      "outputs": []
    },
    {
      "cell_type": "code",
      "source": [
        "''' WITH CustomerSpending AS (\n",
        "    SELECT\n",
        "        c.customer_id,\n",
        "        c.first_name,\n",
        "        c.last_name,\n",
        "        SUM(p.amount) AS total_spent\n",
        "    FROM customer c\n",
        "    JOIN payment p ON c.customer_id = p.customer_id\n",
        "    GROUP BY c.customer_id, c.first_name, c.last_name\n",
        ")\n",
        "SELECT\n",
        "    customer_id,\n",
        "    first_name,\n",
        "    last_name,\n",
        "    total_spent,\n",
        "    RANK() OVER (ORDER BY total_spent DESC) AS spending_rank\n",
        "FROM CustomerSpending\n",
        "ORDER BY spending_rank;\n",
        "'''"
      ],
      "metadata": {
        "id": "YWzguOgnTINj"
      },
      "execution_count": null,
      "outputs": []
    },
    {
      "cell_type": "code",
      "source": [
        "#2.Calculate the cumulative revenue generated by each film over time."
      ],
      "metadata": {
        "id": "2qJAYEyWTLzv"
      },
      "execution_count": null,
      "outputs": []
    },
    {
      "cell_type": "code",
      "source": [
        "'''WITH FilmRevenue AS (\n",
        "    SELECT\n",
        "        f.film_id,\n",
        "        f.title,\n",
        "        r.rental_date,\n",
        "        p.amount\n",
        "    FROM film f\n",
        "    JOIN inventory i ON f.film_id = i.film_id\n",
        "    JOIN rental r ON i.inventory_id = r.inventory_id\n",
        "    JOIN payment p ON r.rental_id = p.rental_id\n",
        ")\n",
        "SELECT\n",
        "    film_id,\n",
        "    title,\n",
        "    rental_date,\n",
        "    amount,\n",
        "    SUM(amount) OVER (PARTITION BY film_id ORDER BY rental_date) AS cumulative_revenue\n",
        "FROM FilmRevenue\n",
        "ORDER BY film_id, rental_date;\n",
        "'''"
      ],
      "metadata": {
        "id": "DW-A8XQfTPt4"
      },
      "execution_count": null,
      "outputs": []
    },
    {
      "cell_type": "code",
      "source": [
        "#3- Determine the average rental duration for each film, considering films with similar lengths."
      ],
      "metadata": {
        "id": "JAJ9XhCWTaCD"
      },
      "execution_count": null,
      "outputs": []
    },
    {
      "cell_type": "code",
      "source": [
        "''' WITH RentalDuration AS (\n",
        "    SELECT\n",
        "        f.film_id,\n",
        "        f.title,\n",
        "        f.length,  -- Length of the film (in minutes)\n",
        "        DATEDIFF(r.return_date, r.rental_date) AS rental_duration\n",
        "    FROM film f\n",
        "    JOIN inventory i ON f.film_id = i.film_id\n",
        "    JOIN rental r ON i.inventory_id = r.inventory_id\n",
        "    WHERE r.return_date IS NOT NULL  -- Ensures that rentals have been returned\n",
        ")\n",
        "SELECT\n",
        "    length,\n",
        "    AVG(rental_duration) AS avg_rental_duration\n",
        "FROM RentalDuration\n",
        "GROUP BY length\n",
        "ORDER BY length;\n",
        "'''"
      ],
      "metadata": {
        "id": "KKzTKH10TdTh"
      },
      "execution_count": null,
      "outputs": []
    },
    {
      "cell_type": "code",
      "source": [
        "#4-Identify the top 3 films in each category based on their rental counts."
      ],
      "metadata": {
        "id": "sH0iQjg_Ts_k"
      },
      "execution_count": null,
      "outputs": []
    },
    {
      "cell_type": "code",
      "source": [
        "'''WITH FilmRentalCounts AS (\n",
        "    SELECT\n",
        "        f.film_id,\n",
        "        f.title,\n",
        "        c.name AS category_name,\n",
        "        COUNT(r.rental_id) AS rental_count\n",
        "    FROM film f\n",
        "    JOIN film_category fc ON f.film_id = fc.film_id\n",
        "    JOIN category c ON fc.category_id = c.category_id\n",
        "    JOIN inventory i ON f.film_id = i.film_id\n",
        "    JOIN rental r ON i.inventory_id = r.inventory_id\n",
        "    GROUP BY f.film_id, f.title, c.name\n",
        ")\n",
        "SELECT\n",
        "    film_id,\n",
        "    title,\n",
        "    category_name,\n",
        "    rental_count,\n",
        "    ROW_NUMBER() OVER (PARTITION BY category_name ORDER BY rental_count DESC) AS rank\n",
        "FROM FilmRentalCounts\n",
        "WHERE rank <= 3\n",
        "ORDER BY category_name, rank;\n",
        "'''"
      ],
      "metadata": {
        "id": "kB3FyPueTx6I"
      },
      "execution_count": null,
      "outputs": []
    },
    {
      "cell_type": "code",
      "source": [
        "#5-Calculate the difference in rental counts between each customer's total rentals and the average rentals across all customers."
      ],
      "metadata": {
        "id": "N6cV3-pVUDZM"
      },
      "execution_count": null,
      "outputs": []
    },
    {
      "cell_type": "code",
      "source": [
        "'''WITH CustomerRentals AS (\n",
        "    SELECT\n",
        "        c.customer_id,\n",
        "        c.first_name,\n",
        "        c.last_name,\n",
        "        COUNT(r.rental_id) AS total_rentals\n",
        "    FROM customer c\n",
        "    LEFT JOIN rental r ON c.customer_id = r.customer_id\n",
        "    GROUP BY c.customer_id, c.first_name, c.last_name\n",
        "),\n",
        "AverageRentals AS (\n",
        "    SELECT AVG(total_rentals) AS avg_rentals\n",
        "    FROM CustomerRentals\n",
        ")\n",
        "SELECT\n",
        "    cr.customer_id,\n",
        "    cr.first_name,\n",
        "    cr.last_name,\n",
        "    cr.total_rentals,\n",
        "    ar.avg_rentals,\n",
        "    (cr.total_rentals - ar.avg_rentals) AS rental_difference\n",
        "FROM CustomerRentals cr, AverageRentals ar\n",
        "ORDER BY rental_difference DESC;\n",
        "'''"
      ],
      "metadata": {
        "id": "0NnglN_jUIJ0"
      },
      "execution_count": null,
      "outputs": []
    },
    {
      "cell_type": "code",
      "source": [
        "#6-Find the monthly revenue trend for the entire rental store over time."
      ],
      "metadata": {
        "id": "NMmXjDunUQ5P"
      },
      "execution_count": null,
      "outputs": []
    },
    {
      "cell_type": "code",
      "source": [
        "'''SELECT\n",
        "    DATE_FORMAT(r.rental_date, '%Y-%m') AS month,\n",
        "    SUM(p.amount) AS total_revenue\n",
        "FROM rental r\n",
        "JOIN payment p ON r.rental_id = p.rental_id\n",
        "GROUP BY month\n",
        "ORDER BY month;\n",
        "'''"
      ],
      "metadata": {
        "id": "4QanfH4VUUGz"
      },
      "execution_count": null,
      "outputs": []
    },
    {
      "cell_type": "code",
      "source": [
        "#7-  Identify the customers whose total spending on rentals falls within the top 20% of all customers."
      ],
      "metadata": {
        "id": "u8IypsKbUcaI"
      },
      "execution_count": null,
      "outputs": []
    },
    {
      "cell_type": "code",
      "source": [
        "'''WITH TotalSpending AS (\n",
        "    SELECT\n",
        "        c.customer_id,\n",
        "        c.first_name,\n",
        "        c.last_name,\n",
        "        SUM(p.amount) AS total_spending\n",
        "    FROM customer c\n",
        "    JOIN payment p ON c.customer_id = p.customer_id\n",
        "    GROUP BY c.customer_id, c.first_name, c.last_name\n",
        "),\n",
        "SpendingPercentile AS (\n",
        "    SELECT\n",
        "        PERCENTILE_CONT(0.80) WITHIN GROUP (ORDER BY total_spending DESC) AS top_20_percent_threshold\n",
        "    FROM TotalSpending\n",
        ")\n",
        "SELECT\n",
        "    ts.customer_id,\n",
        "    ts.first_name,\n",
        "    ts.last_name,\n",
        "    ts.total_spending\n",
        "FROM TotalSpending ts, SpendingPercentile sp\n",
        "WHERE ts.total_spending >= sp.top_20_percent_threshold\n",
        "ORDER BY ts.total_spending DESC;\n",
        "'''"
      ],
      "metadata": {
        "id": "dhPzUoKIUgSh"
      },
      "execution_count": null,
      "outputs": []
    },
    {
      "cell_type": "code",
      "source": [
        "#8-Calculate the running total of rentals per category, ordered by rental count."
      ],
      "metadata": {
        "id": "V0QsaqseUorv"
      },
      "execution_count": null,
      "outputs": []
    },
    {
      "cell_type": "code",
      "source": [
        "'''WITH CategoryRentalCount AS (\n",
        "    SELECT\n",
        "        c.name AS category_name,\n",
        "        COUNT(r.rental_id) AS rental_count\n",
        "    FROM rental r\n",
        "    JOIN inventory i ON r.inventory_id = i.inventory_id\n",
        "    JOIN film_category fc ON i.film_id = fc.film_id\n",
        "    JOIN category c ON fc.category_id = c.category_id\n",
        "    GROUP BY c.name\n",
        "),\n",
        "RunningTotal AS (\n",
        "    SELECT\n",
        "        category_name,\n",
        "        rental_count,\n",
        "        SUM(rental_count) OVER (ORDER BY rental_count DESC) AS running_total\n",
        "    FROM CategoryRentalCount\n",
        ")\n",
        "SELECT\n",
        "    category_name,\n",
        "    rental_count,\n",
        "    running_total\n",
        "FROM RunningTotal\n",
        "ORDER BY rental_count DESC;\n",
        "'''"
      ],
      "metadata": {
        "id": "tLvD89mbUtpI"
      },
      "execution_count": null,
      "outputs": []
    },
    {
      "cell_type": "code",
      "source": [
        "#9-Find the films that have been rented less than the average rental count for their respective categories"
      ],
      "metadata": {
        "id": "5wnekY5LU0fI"
      },
      "execution_count": null,
      "outputs": []
    },
    {
      "cell_type": "code",
      "source": [
        "'''WITH FilmRentalCount AS (\n",
        "    SELECT\n",
        "        f.film_id,\n",
        "        f.title,\n",
        "        c.name AS category_name,\n",
        "        COUNT(r.rental_id) AS rental_count\n",
        "    FROM rental r\n",
        "    JOIN inventory i ON r.inventory_id = i.inventory_id\n",
        "    JOIN film_category fc ON i.film_id = fc.film_id\n",
        "    JOIN category c ON fc.category_id = c.category_id\n",
        "    JOIN film f ON f.film_id = i.film_id\n",
        "    GROUP BY f.film_id, f.title, c.name\n",
        "),\n",
        "CategoryAvgRentalCount AS (\n",
        "    SELECT\n",
        "        c.name AS category_name,\n",
        "        AVG(COUNT(r.rental_id)) OVER (PARTITION BY c.name) AS avg_rental_count\n",
        "    FROM rental r\n",
        "    JOIN inventory i ON r.inventory_id = i.inventory_id\n",
        "    JOIN film_category fc ON i.film_id = fc.film_id\n",
        "    JOIN category c ON fc.category_id = c.category_id\n",
        "    GROUP BY c.name\n",
        ")\n",
        "SELECT\n",
        "    frc.film_id,\n",
        "    frc.title,\n",
        "    frc.category_name,\n",
        "    frc.rental_count,\n",
        "    car.avg_rental_count\n",
        "FROM FilmRentalCount frc\n",
        "JOIN CategoryAvgRentalCount car ON frc.category_name = car.category_name\n",
        "WHERE frc.rental_count < car.avg_rental_count\n",
        "ORDER BY frc.category_name, frc.rental_count;\n",
        "'''"
      ],
      "metadata": {
        "id": "F8F6AxPHU5UE"
      },
      "execution_count": null,
      "outputs": []
    },
    {
      "cell_type": "code",
      "source": [
        "#10- Identify the top 5 months with the highest revenue and display the revenue generated in each month."
      ],
      "metadata": {
        "id": "xv_A6h0hVBhO"
      },
      "execution_count": null,
      "outputs": []
    },
    {
      "cell_type": "code",
      "source": [
        "''' WITH MonthlyRevenue AS (\n",
        "    SELECT\n",
        "        DATE_FORMAT(r.rental_date, '%Y-%m') AS month_year,\n",
        "        SUM(p.amount) AS total_revenue\n",
        "    FROM payment p\n",
        "    JOIN rental r ON p.rental_id = r.rental_id\n",
        "    GROUP BY month_year\n",
        ")\n",
        "SELECT\n",
        "    month_year,\n",
        "    total_revenue\n",
        "FROM MonthlyRevenue\n",
        "ORDER BY total_revenue DESC\n",
        "LIMIT 5;\n",
        "'''"
      ],
      "metadata": {
        "id": "K0loHF3-VHDp"
      },
      "execution_count": null,
      "outputs": []
    },
    {
      "cell_type": "code",
      "source": [
        "#Normalisation & CTE"
      ],
      "metadata": {
        "id": "ArtuF5rxtHJY"
      },
      "execution_count": null,
      "outputs": []
    },
    {
      "cell_type": "code",
      "source": [
        "'''1. First Normal Form (1NF):\n",
        "a. Identify a table in the Sakila database that violates 1NF. Explain how you\n",
        "would normalize it to achieve 1NF.'''"
      ],
      "metadata": {
        "id": "8g1iDXHPtKR0"
      },
      "execution_count": null,
      "outputs": []
    },
    {
      "cell_type": "code",
      "source": [
        "''' CREATE TABLE film_text (\n",
        "  film_id SMALLINT NOT NULL,\n",
        "  title VARCHAR(255) NOT NULL,\n",
        "  description TEXT,\n",
        "  PRIMARY KEY (film_id)\n",
        ");\n",
        "The description column often contains multiple pieces of information (e.g., genre, plot details, actors, etc.) stored as a single text field.\n",
        "\n",
        "Storing multiple values in one column violates 1NF since it’s not atomic.\n",
        "\n",
        " Steps to Normalize the Table to 1NF\n",
        "To achieve 1NF, follow these steps:\n",
        "\n",
        "1. Split the Data into Separate Tables\n",
        "Create separate tables for distinct types of information.\n",
        "\n",
        "Remove the non-atomic description field and store the details in relevant tables like film_category, film_actor, or film_description.\n",
        "\n",
        "2. Ensuring Atomic Data\n",
        "Each column now contains a single value instead of combined information.\n",
        "\n",
        "Queries can be performed efficiently using JOIN operations."
      ],
      "metadata": {
        "id": "JIiZ_Q6stOcA"
      },
      "execution_count": null,
      "outputs": []
    },
    {
      "cell_type": "code",
      "source": [
        "'''2. Second Normal Form (2NF):\n",
        "a. Choose a table in Sakila and describe how you would determine whether it is in 2NF.\n",
        "If it violates 2NF, explain the steps to normalize it.'''"
      ],
      "metadata": {
        "id": "WSENKdRUt8qv"
      },
      "execution_count": null,
      "outputs": []
    },
    {
      "cell_type": "code",
      "source": [
        "''' Second Normal Form (2NF) builds on First Normal Form (1NF) and requires that:\n",
        "\n",
        "The table must be in 1NF (no repeating groups, atomic data).\n",
        "\n",
        "No partial dependency should exist. This means no non-prime attribute (a column that is not part of a primary key) should depend only on a part of a composite primary key.\n",
        "Step 1: Check for 2NF Compliance\n",
        "The table is in 1NF since all data is atomic, and there are no repeating groups.\n",
        "\n",
        "However, to satisfy 2NF, we must ensure that all non-key attributes are fully dependent on the entire primary key, not just a part of it.\n",
        "\n",
        "Analysis:\n",
        "The last_update column is not dependent on both actor_id and film_id.\n",
        "\n",
        "It is just a general timestamp, not specifically related to the relationship between an actor and a film.\n",
        "\n",
        "This means the table violates 2NF.\n",
        "Step 2: Normalize to 2NF\n",
        "Solution:\n",
        "Remove the last_update column from the film_actor table.\n",
        "\n",
        "Create a separate table to store timestamps and general film updates.'''"
      ],
      "metadata": {
        "id": "44Vo8uBJt_Ai"
      },
      "execution_count": null,
      "outputs": []
    },
    {
      "cell_type": "code",
      "source": [
        "'''3. Third Normal Form (3NF):\n",
        "\n",
        " a. Identify a table in Sakila that violates 3NF. Describe the transitive dependencies\n",
        "\n",
        " present and outline the steps to normalize the table to 3NF.'''"
      ],
      "metadata": {
        "id": "OwqhPPTkwtd8"
      },
      "execution_count": null,
      "outputs": []
    },
    {
      "cell_type": "code",
      "source": [
        "'''Understanding Third Normal Form (3NF)\n",
        "Third Normal Form (3NF) is achieved when:\n",
        "\n",
        "The table is in Second Normal Form (2NF).\n",
        "\n",
        "There are no transitive dependencies.\n",
        "\n",
        "Transitive Dependency means:\n",
        "A non-prime attribute (not part of the primary key) depends on another non-prime attribute instead of depending directly on the primary key.\n",
        "CREATE TABLE customer (\n",
        "  customer_id SMALLINT NOT NULL,\n",
        "  store_id TINYINT NOT NULL,\n",
        "  first_name VARCHAR(45) NOT NULL,\n",
        "  last_name VARCHAR(45) NOT NULL,\n",
        "  email VARCHAR(50),\n",
        "  address_id SMALLINT NOT NULL,\n",
        "  active BOOLEAN NOT NULL,\n",
        "  create_date DATETIME NOT NULL,\n",
        "  last_update TIMESTAMP,\n",
        "  PRIMARY KEY (customer_id)\n",
        ");\n",
        "Transitive Dependency\n",
        "The table has an address_id column, which references the address of the customer.\n",
        "\n",
        "The address contains city_id, and further, city_id refers to the city in the city table, which also contains country_id to identify the country.\n",
        "\n",
        "Therefore, the customer’s city and country are indirectly determined through the address.\n",
        "\n",
        "This creates a transitive dependency:\n",
        "Steps to Normalize the Table to 3NF\n",
        "Step 1: Remove Transitive Dependencies\n",
        "Create separate tables for Address, City, and Country instead of storing redundant data.\n",
        "\n",
        "Link the customer table to the Address table using address_id.'''\n",
        "\n"
      ],
      "metadata": {
        "id": "aG-lc8lFwvik"
      },
      "execution_count": null,
      "outputs": []
    },
    {
      "cell_type": "code",
      "source": [
        "'''4. Normalization Process:\n",
        "\n",
        " a. Take a specific table in Sakila and guide through the process of normalizing it from the initial\n",
        "\n",
        " unnormalized form up to at least 2NF.'''"
      ],
      "metadata": {
        "id": "SH2hPfl6zqYw"
      },
      "execution_count": null,
      "outputs": []
    },
    {
      "cell_type": "code",
      "source": [
        "'''Normalization Process: From Unnormalized Form to 2NF\n",
        "Let's go through the normalization process step by step using a specific example from the Sakila database.\n",
        "\n",
        "Step 1: Choose a Table to Normalize\n",
        "We'll work with a hypothetical Unnormalized Table (UNF) that combines data from multiple tables for easy understanding.\n",
        "Issues in UNF:\n",
        "Repeating Groups: John Doe is listed multiple times for different rentals.\n",
        "\n",
        "Redundant Data: Film titles and categories are duplicated.\n",
        "\n",
        "No Primary Key: There’s no clear unique identifier for each record.\n",
        "\n",
        "Step 2: Convert to First Normal Form (1NF)\n",
        "1NF Rules:\n",
        "Ensure each column contains atomic (indivisible) values.\n",
        "\n",
        "Remove repeating groups.\n",
        "\n",
        "Identify a Primary Key.\n",
        "\n",
        "Convert to 1NF:\n",
        "Each value is now atomic (e.g., separate columns for customer and film details).\n",
        "\n",
        "Rental_ID is assigned as the Primary Key.\n",
        " Step 3: Convert to Second Normal Form (2NF)\n",
        "2NF Rules:\n",
        "Ensure it is in 1NF.\n",
        "\n",
        "Remove Partial Dependencies.\n",
        "\n",
        "Every non-key column should depend on the whole primary key.\n",
        "\n",
        "Issue in 1NF:\n",
        "Customer_Name depends only on the Rental_ID but not on the Film data.\n",
        "\n",
        "Film_Category depends on the Film_Title, not directly on the Rental_ID.\n",
        "\n",
        "Solution:\n",
        "Create three tables to remove partial dependencies."
      ],
      "metadata": {
        "id": "5ZBCy30Ozylc"
      },
      "execution_count": null,
      "outputs": []
    },
    {
      "cell_type": "code",
      "source": [
        "'''5-CTE Basics:\n",
        "\n",
        " a. Write a query using a CTE to retrieve the distinct list of actor names and the number of films they\n",
        "\n",
        " have acted in from the actor and film_actor tables'''"
      ],
      "metadata": {
        "id": "Nny7E5411d_T"
      },
      "execution_count": null,
      "outputs": []
    },
    {
      "cell_type": "code",
      "source": [
        "'''WITH ActorFilmCount AS (\n",
        "    SELECT\n",
        "        a.first_name,\n",
        "        a.last_name,\n",
        "        COUNT(fa.film_id) AS film_count\n",
        "    FROM actor a\n",
        "    JOIN film_actor fa ON a.actor_id = fa.actor_id\n",
        "    GROUP BY a.actor_id, a.first_name, a.last_name\n",
        ")\n",
        "SELECT\n",
        "    first_name,\n",
        "    last_name,\n",
        "    film_count\n",
        "FROM ActorFilmCount;\n",
        "'''"
      ],
      "metadata": {
        "id": "PawTjWywN3nO"
      },
      "execution_count": null,
      "outputs": []
    },
    {
      "cell_type": "code",
      "source": [
        "'''6- CTE with Joins:\n",
        "\n",
        " a. Create a CTE that combines information from the film and language tables to display the film title,\n",
        "\n",
        " language name, and rental rate.'''"
      ],
      "metadata": {
        "id": "JxW3Q3w7OEeC"
      },
      "execution_count": null,
      "outputs": []
    },
    {
      "cell_type": "code",
      "source": [
        "'''WITH FilmLanguage AS (\n",
        "    SELECT\n",
        "        f.title AS film_title,\n",
        "        l.name AS language_name,\n",
        "        f.rental_rate\n",
        "    FROM film f\n",
        "    JOIN language l ON f.language_id = l.language_id\n",
        ")\n",
        "SELECT\n",
        "    film_title,\n",
        "    language_name,\n",
        "    rental_rate\n",
        "FROM FilmLanguage;\n",
        "'''"
      ],
      "metadata": {
        "id": "VHCLPn4BOJF_"
      },
      "execution_count": null,
      "outputs": []
    },
    {
      "cell_type": "code",
      "source": [
        "'''7-CTE for Aggregation:\n",
        "\n",
        " a. Write a query using a CTE to find the total revenue generated by each customer (sum of payments)\n",
        "\n",
        " from the customer and payment tables.'''"
      ],
      "metadata": {
        "id": "f2tfdek4OQS8"
      },
      "execution_count": null,
      "outputs": []
    },
    {
      "cell_type": "code",
      "source": [
        "'''WITH CustomerRevenue AS (\n",
        "    SELECT\n",
        "        p.customer_id,\n",
        "        SUM(p.amount) AS total_revenue\n",
        "    FROM payment p\n",
        "    GROUP BY p.customer_id\n",
        ")\n",
        "SELECT\n",
        "    c.first_name,\n",
        "    c.last_name,\n",
        "    cr.total_revenue\n",
        "FROM CustomerRevenue cr\n",
        "JOIN customer c ON cr.customer_id = c.customer_id\n",
        "ORDER BY cr.total_revenue DESC;\n",
        "'''"
      ],
      "metadata": {
        "id": "Wpl0FZaPOUOZ"
      },
      "execution_count": null,
      "outputs": []
    },
    {
      "cell_type": "code",
      "source": [
        "'''8-  CTE with Window Functions:\n",
        "\n",
        " a. Utilize a CTE with a window function to rank films based on their rental duration from the film table.'''"
      ],
      "metadata": {
        "id": "UrQV1bEgPETv"
      },
      "execution_count": null,
      "outputs": []
    },
    {
      "cell_type": "code",
      "source": [
        "'''WITH RankedFilms AS (\n",
        "    SELECT\n",
        "        f.film_id,\n",
        "        f.title,\n",
        "        f.rental_duration,\n",
        "        RANK() OVER (ORDER BY f.rental_duration DESC) AS rental_rank\n",
        "    FROM film f\n",
        ")\n",
        "SELECT\n",
        "    film_id,\n",
        "    title,\n",
        "    rental_duration,\n",
        "    rental_rank\n",
        "FROM RankedFilms\n",
        "ORDER BY rental_rank;\n",
        "'''"
      ],
      "metadata": {
        "id": "E3hEtI9cPJNj"
      },
      "execution_count": null,
      "outputs": []
    },
    {
      "cell_type": "code",
      "source": [
        "'''9- CTE and Filtering:\n",
        "\n",
        " a. Create a CTE to list customers who have made more than two rentals, and then join this CTE with the\n",
        "\n",
        " customer table to retrieve additional customer details.'''"
      ],
      "metadata": {
        "id": "qCw5DSwrPRPQ"
      },
      "execution_count": null,
      "outputs": []
    },
    {
      "cell_type": "code",
      "source": [
        "'''WITH CustomerRentalCount AS (\n",
        "    SELECT\n",
        "        r.customer_id,\n",
        "        COUNT(r.rental_id) AS rental_count\n",
        "    FROM rental r\n",
        "    GROUP BY r.customer_id\n",
        "    HAVING COUNT(r.rental_id) > 2\n",
        ")\n",
        "SELECT\n",
        "    c.customer_id,\n",
        "    c.first_name,\n",
        "    c.last_name,\n",
        "    crc.rental_count\n",
        "FROM CustomerRentalCount crc\n",
        "JOIN customer c ON crc.customer_id = c.customer_id;\n",
        "'''"
      ],
      "metadata": {
        "id": "fOArCYbOPdNW"
      },
      "execution_count": null,
      "outputs": []
    },
    {
      "cell_type": "code",
      "source": [
        "'''10-a. Write a query using a CTE to find the total number of rentals made each month, considering the\n",
        "\n",
        " rental_date from the rental table\n",
        "'''"
      ],
      "metadata": {
        "id": "nFQGResfPlsa"
      },
      "execution_count": null,
      "outputs": []
    },
    {
      "cell_type": "code",
      "source": [
        "'''WITH MonthlyRentals AS (\n",
        "    SELECT\n",
        "        YEAR(r.rental_date) AS rental_year,\n",
        "        MONTH(r.rental_date) AS rental_month,\n",
        "        COUNT(r.rental_id) AS total_rentals\n",
        "    FROM rental r\n",
        "    GROUP BY YEAR(r.rental_date), MONTH(r.rental_date)\n",
        ")\n",
        "SELECT\n",
        "    rental_year,\n",
        "    rental_month,\n",
        "    total_rentals\n",
        "FROM MonthlyRentals\n",
        "ORDER BY rental_year DESC, rental_month DESC;\n",
        "'''"
      ],
      "metadata": {
        "id": "GcWuuGBvPqZP"
      },
      "execution_count": null,
      "outputs": []
    },
    {
      "cell_type": "code",
      "source": [
        "'''11-CTE and Self-Join:\n",
        "\n",
        " a. Create a CTE to generate a report showing pairs of actors who have appeared in the same film\n",
        "\n",
        " together, using the film_actor table.'''"
      ],
      "metadata": {
        "id": "pXteeIw0PzXk"
      },
      "execution_count": null,
      "outputs": []
    },
    {
      "cell_type": "code",
      "source": [
        "'''WITH ActorPairs AS (\n",
        "    SELECT\n",
        "        fa1.actor_id AS actor1_id,\n",
        "        fa2.actor_id AS actor2_id,\n",
        "        fa1.film_id\n",
        "    FROM film_actor fa1\n",
        "    JOIN film_actor fa2 ON fa1.film_id = fa2.film_id\n",
        "    WHERE fa1.actor_id < fa2.actor_id  -- To avoid duplicate pairs\n",
        ")\n",
        "SELECT\n",
        "    a1.first_name AS actor1_first_name,\n",
        "    a1.last_name AS actor1_last_name,\n",
        "    a2.first_name AS actor2_first_name,\n",
        "    a2.last_name AS actor2_last_name,\n",
        "    ap.film_id\n",
        "FROM ActorPairs ap\n",
        "JOIN actor a1 ON ap.actor1_id = a1.actor_id\n",
        "JOIN actor a2 ON ap.actor2_id = a2.actor_id\n",
        "ORDER BY ap.film_id;\n",
        "'''"
      ],
      "metadata": {
        "id": "AauxH4CLP5r0"
      },
      "execution_count": null,
      "outputs": []
    },
    {
      "cell_type": "code",
      "source": [
        "'''CTE for Recursive Search:\n",
        "\n",
        " a. Implement a recursive CTE to find all employees in the staff table who report to a specific manager,\n",
        "\n",
        " considering the reports_to column'''"
      ],
      "metadata": {
        "id": "XtezK_27QACB"
      },
      "execution_count": null,
      "outputs": []
    },
    {
      "cell_type": "code",
      "source": [
        "'''WITH RECURSIVE EmployeeHierarchy AS (\n",
        "    -- Base case: select the manager\n",
        "    SELECT\n",
        "        s.employee_id,\n",
        "        s.first_name,\n",
        "        s.last_name,\n",
        "        s.reports_to\n",
        "    FROM staff s\n",
        "    WHERE s.employee_id = <specific_manager_id>  -- Replace with the manager's ID (e.g., 1)\n",
        "\n",
        "    UNION ALL\n",
        "\n",
        "    -- Recursive case: find employees who report to the selected employees\n",
        "    SELECT\n",
        "        s.employee_id,\n",
        "        s.first_name,\n",
        "        s.last_name,\n",
        "        s.reports_to\n",
        "    FROM staff s\n",
        "    INNER JOIN EmployeeHierarchy eh ON s.reports_to = eh.employee_id\n",
        ")\n",
        "-- Final selection: retrieve the employees in the hierarchy\n",
        "SELECT\n",
        "    employee_id,\n",
        "    first_name,\n",
        "    last_name,\n",
        "    reports_to\n",
        "FROM EmployeeHierarchy\n",
        "ORDER BY employee_id;\n",
        "'''"
      ],
      "metadata": {
        "id": "TaTr0qfZQFhG"
      },
      "execution_count": null,
      "outputs": []
    }
  ]
}